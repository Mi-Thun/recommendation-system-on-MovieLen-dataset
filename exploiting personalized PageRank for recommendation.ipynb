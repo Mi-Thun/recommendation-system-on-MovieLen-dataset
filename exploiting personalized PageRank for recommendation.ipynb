{
  "cells": [
    {
      "attachments": {},
      "cell_type": "markdown",
      "metadata": {
        "id": "6UfScEmDKJkz"
      },
      "source": [
        "### Data preprocessing"
      ]
    },
    {
      "cell_type": "code",
      "execution_count": 2,
      "metadata": {},
      "outputs": [],
      "source": [
        "# ! pip install networkx\n",
        "# ! pip install keras\n",
        "# ! pip install tensorflow \n",
        "import keras\n",
        "import pandas as pd\n",
        "import numpy as np\n",
        "import networkx as nx\n",
        "from sklearn.model_selection import train_test_split\n",
        "from sklearn.metrics import accuracy_score, precision_score, recall_score\n",
        "from keras.layers import Input, Embedding, Dot, Concatenate, Dense, Flatten, Dropout\n",
        "from keras.models import Model\n",
        "import tensorflow as tf\n"
      ]
    },
    {
      "cell_type": "code",
      "execution_count": 42,
      "metadata": {
        "id": "Qtgyk9DGKICQ"
      },
      "outputs": [],
      "source": [
        "# Load the necessary data\n",
        "ratings_df = pd.read_csv('ml-100k/u.data', sep='\\t', names=['userId', 'movieId', 'rating', 'timestamp'])\n",
        "movies_df = pd.read_csv('ml-100k/u.item', sep='|', encoding='latin-1', usecols=[0, 1, 2], names=['movieId', 'title', 'release_date'])[:50]\n",
        "users_df = pd.read_csv('ml-100k/u.user', sep='|', names=['userId', 'age', 'gender', 'occupation', 'zip_code'])[:100]\n",
        "\n",
        "# Extract the first 100 users' and 50 movies' ratings\n",
        "user_ids = users_df['userId'].values\n",
        "movie_ids = movies_df['movieId'].values\n",
        "ratings_df = ratings_df[(ratings_df['userId'].isin(user_ids)) & (ratings_df['movieId'].isin(movie_ids))]\n"
      ]
    },
    {
      "cell_type": "code",
      "execution_count": 43,
      "metadata": {},
      "outputs": [
        {
          "name": "stdout",
          "output_type": "stream",
          "text": [
            "     userId  movieId  rating  timestamp\n",
            "39        7       32       4  891350932\n",
            "40       10       16       4  877888877\n",
            "48       99        4       5  886519097\n",
            "117      62       21       3  879373460\n",
            "136      59       23       5  888205300\n",
            "(834, 4)\n",
            "   movieId              title release_date\n",
            "0        1   Toy Story (1995)  01-Jan-1995\n",
            "1        2   GoldenEye (1995)  01-Jan-1995\n",
            "2        3  Four Rooms (1995)  01-Jan-1995\n",
            "3        4  Get Shorty (1995)  01-Jan-1995\n",
            "4        5     Copycat (1995)  01-Jan-1995\n",
            "(50, 3)\n",
            "   userId  age gender  occupation zip_code\n",
            "0       1   24      M  technician    85711\n",
            "1       2   53      F       other    94043\n",
            "2       3   23      M      writer    32067\n",
            "3       4   24      M  technician    43537\n",
            "4       5   33      F       other    15213\n",
            "(100, 5)\n"
          ]
        }
      ],
      "source": [
        "print(ratings_df.head())\n",
        "print(ratings_df.shape)\n",
        "print(movies_df.head())\n",
        "print(movies_df.shape)\n",
        "print(users_df.head())\n",
        "print(users_df.shape)\n"
      ]
    },
    {
      "cell_type": "code",
      "execution_count": 44,
      "metadata": {
        "id": "skWtvyDAszZo"
      },
      "outputs": [
        {
          "data": {
            "text/plain": [
              "(834, 10)"
            ]
          },
          "execution_count": 44,
          "metadata": {},
          "output_type": "execute_result"
        }
      ],
      "source": [
        "ratings_df = pd.merge(ratings_df, movies_df, on='movieId')\n",
        "ratings_df = pd.merge(ratings_df, users_df, on='userId')\n",
        "ratings_df.shape\n"
      ]
    },
    {
      "cell_type": "code",
      "execution_count": 45,
      "metadata": {
        "colab": {
          "base_uri": "https://localhost:8080/",
          "height": 485
        },
        "id": "Ek05CrP1ucgC",
        "outputId": "ea252bf3-c31a-4f32-96aa-b213ba0103b8"
      },
      "outputs": [
        {
          "data": {
            "text/html": [
              "<div>\n",
              "<style scoped>\n",
              "    .dataframe tbody tr th:only-of-type {\n",
              "        vertical-align: middle;\n",
              "    }\n",
              "\n",
              "    .dataframe tbody tr th {\n",
              "        vertical-align: top;\n",
              "    }\n",
              "\n",
              "    .dataframe thead th {\n",
              "        text-align: right;\n",
              "    }\n",
              "</style>\n",
              "<table border=\"1\" class=\"dataframe\">\n",
              "  <thead>\n",
              "    <tr style=\"text-align: right;\">\n",
              "      <th></th>\n",
              "      <th>userId</th>\n",
              "      <th>movieId</th>\n",
              "      <th>rating</th>\n",
              "      <th>timestamp</th>\n",
              "      <th>title</th>\n",
              "      <th>release_date</th>\n",
              "      <th>age</th>\n",
              "      <th>gender</th>\n",
              "      <th>occupation</th>\n",
              "      <th>zip_code</th>\n",
              "    </tr>\n",
              "  </thead>\n",
              "  <tbody>\n",
              "    <tr>\n",
              "      <th>0</th>\n",
              "      <td>7</td>\n",
              "      <td>32</td>\n",
              "      <td>4</td>\n",
              "      <td>891350932</td>\n",
              "      <td>Crumb (1994)</td>\n",
              "      <td>01-Jan-1994</td>\n",
              "      <td>57</td>\n",
              "      <td>M</td>\n",
              "      <td>administrator</td>\n",
              "      <td>91344</td>\n",
              "    </tr>\n",
              "    <tr>\n",
              "      <th>1</th>\n",
              "      <td>7</td>\n",
              "      <td>4</td>\n",
              "      <td>5</td>\n",
              "      <td>891351772</td>\n",
              "      <td>Get Shorty (1995)</td>\n",
              "      <td>01-Jan-1995</td>\n",
              "      <td>57</td>\n",
              "      <td>M</td>\n",
              "      <td>administrator</td>\n",
              "      <td>91344</td>\n",
              "    </tr>\n",
              "    <tr>\n",
              "      <th>2</th>\n",
              "      <td>7</td>\n",
              "      <td>23</td>\n",
              "      <td>3</td>\n",
              "      <td>891351383</td>\n",
              "      <td>Taxi Driver (1976)</td>\n",
              "      <td>16-Feb-1996</td>\n",
              "      <td>57</td>\n",
              "      <td>M</td>\n",
              "      <td>administrator</td>\n",
              "      <td>91344</td>\n",
              "    </tr>\n",
              "    <tr>\n",
              "      <th>3</th>\n",
              "      <td>7</td>\n",
              "      <td>47</td>\n",
              "      <td>5</td>\n",
              "      <td>891352692</td>\n",
              "      <td>Ed Wood (1994)</td>\n",
              "      <td>01-Jan-1994</td>\n",
              "      <td>57</td>\n",
              "      <td>M</td>\n",
              "      <td>administrator</td>\n",
              "      <td>91344</td>\n",
              "    </tr>\n",
              "    <tr>\n",
              "      <th>4</th>\n",
              "      <td>7</td>\n",
              "      <td>25</td>\n",
              "      <td>3</td>\n",
              "      <td>891352451</td>\n",
              "      <td>Birdcage, The (1996)</td>\n",
              "      <td>08-Mar-1996</td>\n",
              "      <td>57</td>\n",
              "      <td>M</td>\n",
              "      <td>administrator</td>\n",
              "      <td>91344</td>\n",
              "    </tr>\n",
              "  </tbody>\n",
              "</table>\n",
              "</div>"
            ],
            "text/plain": [
              "   userId  movieId  rating  timestamp                 title release_date  age  \\\n",
              "0       7       32       4  891350932          Crumb (1994)  01-Jan-1994   57   \n",
              "1       7        4       5  891351772     Get Shorty (1995)  01-Jan-1995   57   \n",
              "2       7       23       3  891351383    Taxi Driver (1976)  16-Feb-1996   57   \n",
              "3       7       47       5  891352692        Ed Wood (1994)  01-Jan-1994   57   \n",
              "4       7       25       3  891352451  Birdcage, The (1996)  08-Mar-1996   57   \n",
              "\n",
              "  gender     occupation zip_code  \n",
              "0      M  administrator    91344  \n",
              "1      M  administrator    91344  \n",
              "2      M  administrator    91344  \n",
              "3      M  administrator    91344  \n",
              "4      M  administrator    91344  "
            ]
          },
          "execution_count": 45,
          "metadata": {},
          "output_type": "execute_result"
        }
      ],
      "source": [
        "ratings_df.head()\n"
      ]
    },
    {
      "cell_type": "code",
      "execution_count": 46,
      "metadata": {},
      "outputs": [
        {
          "data": {
            "text/html": [
              "<div>\n",
              "<style scoped>\n",
              "    .dataframe tbody tr th:only-of-type {\n",
              "        vertical-align: middle;\n",
              "    }\n",
              "\n",
              "    .dataframe tbody tr th {\n",
              "        vertical-align: top;\n",
              "    }\n",
              "\n",
              "    .dataframe thead th {\n",
              "        text-align: right;\n",
              "    }\n",
              "</style>\n",
              "<table border=\"1\" class=\"dataframe\">\n",
              "  <thead>\n",
              "    <tr style=\"text-align: right;\">\n",
              "      <th></th>\n",
              "      <th>userId</th>\n",
              "      <th>movieId</th>\n",
              "      <th>rating</th>\n",
              "      <th>title</th>\n",
              "    </tr>\n",
              "  </thead>\n",
              "  <tbody>\n",
              "    <tr>\n",
              "      <th>0</th>\n",
              "      <td>7</td>\n",
              "      <td>32</td>\n",
              "      <td>4</td>\n",
              "      <td>Crumb (1994)</td>\n",
              "    </tr>\n",
              "    <tr>\n",
              "      <th>1</th>\n",
              "      <td>7</td>\n",
              "      <td>4</td>\n",
              "      <td>5</td>\n",
              "      <td>Get Shorty (1995)</td>\n",
              "    </tr>\n",
              "    <tr>\n",
              "      <th>2</th>\n",
              "      <td>7</td>\n",
              "      <td>23</td>\n",
              "      <td>3</td>\n",
              "      <td>Taxi Driver (1976)</td>\n",
              "    </tr>\n",
              "    <tr>\n",
              "      <th>3</th>\n",
              "      <td>7</td>\n",
              "      <td>47</td>\n",
              "      <td>5</td>\n",
              "      <td>Ed Wood (1994)</td>\n",
              "    </tr>\n",
              "    <tr>\n",
              "      <th>4</th>\n",
              "      <td>7</td>\n",
              "      <td>25</td>\n",
              "      <td>3</td>\n",
              "      <td>Birdcage, The (1996)</td>\n",
              "    </tr>\n",
              "  </tbody>\n",
              "</table>\n",
              "</div>"
            ],
            "text/plain": [
              "   userId  movieId  rating                 title\n",
              "0       7       32       4          Crumb (1994)\n",
              "1       7        4       5     Get Shorty (1995)\n",
              "2       7       23       3    Taxi Driver (1976)\n",
              "3       7       47       5        Ed Wood (1994)\n",
              "4       7       25       3  Birdcage, The (1996)"
            ]
          },
          "execution_count": 46,
          "metadata": {},
          "output_type": "execute_result"
        }
      ],
      "source": [
        "ratings_df = ratings_df.loc[:, ['userId', 'movieId', 'rating', 'title']]\n",
        "ratings_df.head()\n"
      ]
    },
    {
      "cell_type": "code",
      "execution_count": 47,
      "metadata": {},
      "outputs": [
        {
          "data": {
            "text/plain": [
              "(834, 4)"
            ]
          },
          "execution_count": 47,
          "metadata": {},
          "output_type": "execute_result"
        }
      ],
      "source": [
        "ratings_df.shape\n"
      ]
    },
    {
      "cell_type": "code",
      "execution_count": 49,
      "metadata": {},
      "outputs": [
        {
          "name": "stdout",
          "output_type": "stream",
          "text": [
            "<class 'pandas.core.frame.DataFrame'>\n",
            "Int64Index: 834 entries, 0 to 833\n",
            "Data columns (total 4 columns):\n",
            " #   Column   Non-Null Count  Dtype \n",
            "---  ------   --------------  ----- \n",
            " 0   userId   834 non-null    int64 \n",
            " 1   movieId  834 non-null    int64 \n",
            " 2   rating   834 non-null    int64 \n",
            " 3   title    834 non-null    object\n",
            "dtypes: int64(3), object(1)\n",
            "memory usage: 32.6+ KB\n"
          ]
        }
      ],
      "source": [
        "# checking null value\n",
        "ratings_df.info()\n"
      ]
    },
    {
      "cell_type": "code",
      "execution_count": 51,
      "metadata": {},
      "outputs": [
        {
          "data": {
            "text/plain": [
              "userId     0\n",
              "movieId    0\n",
              "rating     0\n",
              "title      0\n",
              "dtype: int64"
            ]
          },
          "execution_count": 51,
          "metadata": {},
          "output_type": "execute_result"
        }
      ],
      "source": [
        "ratings_df.isnull().sum()"
      ]
    },
    {
      "cell_type": "code",
      "execution_count": 54,
      "metadata": {},
      "outputs": [
        {
          "name": "stdout",
          "output_type": "stream",
          "text": [
            "50\n",
            "88\n"
          ]
        }
      ],
      "source": [
        "# check number of unique movie, user\n",
        "print(ratings_df['movieId'].nunique())\n",
        "print(ratings_df['userId'].nunique())    # Because of merging lost some user\n"
      ]
    },
    {
      "cell_type": "code",
      "execution_count": null,
      "metadata": {
        "id": "VJB6uRays6Vq"
      },
      "outputs": [],
      "source": [
        "from sklearn.model_selection import train_test_split\n",
        "\n",
        "train, test = train_test_split(ratings, test_size=0.2, random_state=42)\n",
        "\n",
        "train_matrix = train.pivot_table(index='user_id', columns='title', values='rating').fillna(0)\n",
        "test_matrix = test.pivot_table(index='user_id', columns='title', values='rating').fillna(0)\n",
        "\n",
        "mean_ratings = train_matrix.mean(axis=1)\n",
        "train_matrix = train_matrix.sub(mean_ratings, axis=0)\n",
        "test_matrix = test_matrix.sub(mean_ratings, axis=0)\n"
      ]
    },
    {
      "cell_type": "code",
      "execution_count": null,
      "metadata": {
        "id": "rn_br8YstAkN"
      },
      "outputs": [],
      "source": [
        "from scipy.sparse import csr_matrix\n",
        "\n",
        "train_sparse = csr_matrix(train_matrix.values)\n",
        "test_sparse = csr_matrix(test_matrix.values)\n"
      ]
    },
    {
      "cell_type": "code",
      "execution_count": null,
      "metadata": {
        "id": "_ZzMixzztJ8B"
      },
      "outputs": [],
      "source": [
        "# ! pip install networkx\n",
        "# ! pip install scikit-surprise\n",
        "\n",
        "from surprise import Dataset\n",
        "from surprise import Reader\n",
        "import networkx as nx\n",
        "\n",
        "# Define the rating scale\n",
        "reader = Reader(rating_scale=(1, 5))\n",
        "\n",
        "# Load train and test matrices into surprise datasets\n",
        "trainset = Dataset.load_from_df(train[['user_id', 'item_id', 'rating']], reader)\n",
        "testset = Dataset.load_from_df(test[['user_id', 'item_id', 'rating']], reader)\n",
        "\n",
        "G = nx.DiGraph()\n",
        "for uid, iid, rating in trainset.build_full_trainset().all_ratings():\n",
        "    G.add_edge(uid, iid, weight=rating)\n",
        "\n",
        "from networkx.algorithms.link_analysis.pagerank_alg import pagerank\n",
        "\n",
        "user_pageranks = {}\n",
        "for user_id in trainset.build_full_trainset().all_users():\n",
        "    user_pageranks[user_id] = pagerank(G, alpha=0.85, personalization={user_id: 1}, weight='weight')\n"
      ]
    },
    {
      "cell_type": "code",
      "execution_count": null,
      "metadata": {
        "id": "s0hc_ESZtOjC"
      },
      "outputs": [],
      "source": [
        "def get_recommendations(user_id, num_items=10):\n",
        "    scores = user_pageranks[user_id]\n",
        "    rated_items = set([iid for uid, iid, _ in trainset.ur[user_id]])\n",
        "    sorted_items = sorted(scores.items(), key=lambda x: x[1], reverse=True)\n",
        "    recommendations = []\n",
        "    for iid, score in sorted_items:\n",
        "        if iid not in rated_items:\n",
        "            recommendations.append((iid, score))\n",
        "            if len(recommendations) == num_items:\n",
        "                break\n",
        "    return recommendations\n"
      ]
    },
    {
      "cell_type": "code",
      "execution_count": null,
      "metadata": {
        "colab": {
          "base_uri": "https://localhost:8080/"
        },
        "id": "UwxFyvMGwzZ3",
        "outputId": "3150b887-65a5-4935-d69f-b7db685d47cd"
      },
      "outputs": [
        {
          "name": "stdout",
          "output_type": "stream",
          "text": [
            "Estimating biases using als...\n",
            "RMSE: 0.9503\n",
            "MAE:  0.7558\n"
          ]
        }
      ],
      "source": [
        "from surprise import Dataset\n",
        "from surprise import Reader\n",
        "from surprise.model_selection import train_test_split\n",
        "from surprise import BaselineOnly\n",
        "from surprise import accuracy\n",
        "\n",
        "reader = Reader(rating_scale=(1, 5))\n",
        "\n",
        "# Load data from DataFrame\n",
        "data = Dataset.load_from_df(ratings[['user_id', 'item_id', 'rating']], reader)\n",
        "\n",
        "# Split data into train and test sets\n",
        "trainset, testset = train_test_split(data, test_size=0.2, random_state=42)\n",
        "\n",
        "# Fit the baseline model on the trainset\n",
        "algo = BaselineOnly()\n",
        "algo.fit(trainset)\n",
        "\n",
        "# Test the model on the testset\n",
        "predictions = algo.test(testset)\n",
        "rmse = accuracy.rmse(predictions)\n",
        "mae = accuracy.mae(predictions)\n"
      ]
    },
    {
      "cell_type": "code",
      "execution_count": null,
      "metadata": {
        "colab": {
          "base_uri": "https://localhost:8080/"
        },
        "id": "8Sb04uQetSJc",
        "outputId": "c0d88093-fe8c-4b79-d778-08dec8ef98f7"
      },
      "outputs": [
        {
          "name": "stdout",
          "output_type": "stream",
          "text": [
            "Estimating biases using als...\n",
            "RMSE: 0.9503\n",
            "MAE:  0.7558\n"
          ]
        }
      ],
      "source": [
        "from surprise import BaselineOnly\n",
        "from surprise import accuracy\n",
        "\n",
        "algo = BaselineOnly()\n",
        "algo.fit(trainset)\n",
        "predictions = algo.test(testset)\n",
        "rmse = accuracy.rmse(predictions)\n",
        "mae = accuracy.mae(predictions)\n"
      ]
    },
    {
      "cell_type": "code",
      "execution_count": null,
      "metadata": {
        "id": "FCeipx46yWt3"
      },
      "outputs": [],
      "source": [
        "new_ratings = pd.DataFrame({'user_id': [1000, 1000, 1000, 1000],\n",
        "                            'item_id': [1, 2, 6, 10],\n",
        "                            'rating': [5, 4, 2, 3],\n",
        "                            'timestamp': [0, 0, 0, 0]})"
      ]
    },
    {
      "cell_type": "code",
      "execution_count": null,
      "metadata": {
        "id": "ZVISPfyjygPy"
      },
      "outputs": [],
      "source": [
        "ratings = pd.concat([ratings, new_ratings])"
      ]
    },
    {
      "cell_type": "code",
      "execution_count": null,
      "metadata": {
        "colab": {
          "base_uri": "https://localhost:8080/",
          "height": 345
        },
        "id": "kGMtzHrXybo5",
        "outputId": "2964c5f8-9150-4324-90c6-48cf47f4f992"
      },
      "outputs": [],
      "source": [
        "recommendations = get_recommendations(101, 1)\n",
        "print(recommendations)\n"
      ]
    },
    {
      "attachments": {},
      "cell_type": "markdown",
      "metadata": {
        "id": "o7MEcwdttVND"
      },
      "source": [
        "### 2nd approch CNN"
      ]
    },
    {
      "cell_type": "code",
      "execution_count": null,
      "metadata": {
        "id": "5s5AWjuGKs9u"
      },
      "outputs": [],
      "source": [
        "# Compute the mean rating for each movie\n",
        "movie_means = ratings_df.groupby('movieId').rating.mean()\n",
        "\n",
        "# Compute the similarity between movies based on user ratings\n",
        "movie_similarities = pd.DataFrame(np.zeros((len(movie_means), len(movie_means))), index=movie_means.index, columns=movie_means.index)\n",
        "for movie1 in movie_means.index:\n",
        "    for movie2 in movie_means.index:\n",
        "        if movie1 == movie2:\n",
        "            movie_similarities.loc[movie1, movie2] = 1.0\n",
        "        else:\n",
        "            ratings1 = ratings_df[ratings_df.movieId == movie1].set_index('userId')['rating']\n",
        "            ratings2 = ratings_df[ratings_df.movieId == movie2].set_index('userId')['rating']\n",
        "            if len(ratings1) == 0 or len(ratings2) == 0:\n",
        "                similarity = 0.0\n",
        "            else:\n",
        "                similarity = ratings1.corr(ratings2)\n",
        "            movie_similarities.loc[movie1, movie2] = similarity\n",
        "\n",
        "# Construct a graph of movies with edges representing similarity\n",
        "movie_graph = nx.from_numpy_array(movie_similarities.values)\n"
      ]
    },
    {
      "cell_type": "code",
      "execution_count": null,
      "metadata": {
        "colab": {
          "base_uri": "https://localhost:8080/",
          "height": 397
        },
        "id": "_Yh8WwSkKzvv",
        "outputId": "be8e21fe-c94d-4578-90d9-c929b84cb3db"
      },
      "outputs": [],
      "source": [
        "# Define a set of seed movies for Personalized PageRank\n",
        "seed_movies = [49, 18, 25, 2, 31]\n",
        "\n",
        "# Calculate the Personalized PageRank scores for the seed movies\n",
        "pr = nx.pagerank(movie_graph, alpha=0.75, personalization={movie: 1 if movie in seed_movies else 0 for movie in movie_means.index}, max_iter=1000, tol=1e-7)\n"
      ]
    },
    {
      "cell_type": "code",
      "execution_count": null,
      "metadata": {
        "id": "b8hjpnBlK7xC"
      },
      "outputs": [],
      "source": [
        "# Join the Personalized PageRank dataframe with the movies dataframe\n",
        "movies_df_with_pr = movies_df.join(pd.Series(pr, name='pagerank'))\n",
        "\n",
        "# Encode the genres as dummy variables\n",
        "movie_genres = movies_df_with_pr.title.str.extract('\\((.*?)\\)', expand=False).str.split('|')\n",
        "genres = set([genre for movie in movie_genres.dropna() for genre in movie])\n",
        "for genre in genres:\n",
        "    movies_df_with_pr['genre_' + genre] = movie_genres.apply(lambda x: pd.Series([1 if genre in x else 0 for genre in genres]))\n",
        "    movies_df_with_pr = pd.concat([movies_df_with_pr, movie_genres_encoded], axis=1)\n",
        "\n"
      ]
    },
    {
      "cell_type": "code",
      "execution_count": null,
      "metadata": {
        "id": "ddwPbk0YLFDV"
      },
      "outputs": [],
      "source": [
        "# Split the data into training and test sets\n",
        "train_df, test_df = train_test_split(ratings_df, test_size=0.2)\n",
        "\n",
        "# Define the input layers for the CNN\n",
        "user_input = Input(shape=(1,))\n",
        "movie_input = Input(shape=(1,))\n",
        "movie_input_encoded = Input(shape=(len(genres),))\n"
      ]
    },
    {
      "cell_type": "code",
      "execution_count": null,
      "metadata": {
        "id": "NqbmNMbsLHQX"
      },
      "outputs": [],
      "source": [
        "# Define the embedding layers for the users and movies\n",
        "user_embedding = Embedding(input_dim=len(users_df), output_dim=50)(user_input)\n",
        "movie_embedding = Embedding(input_dim=len(movies_df), output_dim=50)(movie_input)\n",
        "movie_embedding_encoded = Flatten()(Embedding(input_dim=len(movies_df_with_pr), output_dim=len(genres), input_length=1, name='movie_embedding_encoded')(movie_input))\n",
        "\n",
        "# Concatenate the embeddings with the genre encoding\n",
        "input_layer = Concatenate()([user_embedding, movie_embedding, movie_embedding_encoded])\n"
      ]
    },
    {
      "cell_type": "code",
      "execution_count": null,
      "metadata": {
        "id": "ErXe1R26LIyF"
      },
      "outputs": [],
      "source": [
        "# Define the CNN layers\n",
        "cnn_layer = Conv1D(filters=32, kernel_size=3, activation='relu')(input_layer)\n",
        "cnn_layer = Dropout(rate=0.2)(cnn_layer)\n",
        "cnn_layer = MaxPooling1D(pool_size=2)(cnn_layer)\n",
        "cnn_layer = Flatten()(cnn_layer)\n",
        "cnn_layer = Dense(units=64, activation='relu')(cnn_layer)\n",
        "cnn_layer = Dropout(rate=0.5)(cnn_layer)\n",
        "output_layer = Dense(units=1, activation='sigmoid')(cnn_layer)\n",
        "\n",
        "# Compile the model\n",
        "model = Model(inputs=[user_input, movie_input, movie_input_encoded], outputs=output_layer)\n",
        "model.compile(optimizer='adam', loss='binary_crossentropy')\n",
        "\n",
        "# Fit the model\n",
        "model.fit([train_df.userId, train_df.movieId, movies_df_with_pr.loc[train_df.movieId][['genre_' + genre for genre in genres]].values], train_df.rating >= 4, epochs=10, batch_size=32, validation_split=0.2)\n"
      ]
    },
    {
      "cell_type": "code",
      "execution_count": null,
      "metadata": {
        "id": "HXnwS-oPLKhN"
      },
      "outputs": [],
      "source": [
        "# Predict the ratings for the test set\n",
        "y_pred = model.predict([test_df.userId, test_df.movieId, movies_df_with_pr.loc[test_df.movieId][['genre_' + genre for genre in genres]].values])\n",
        "\n",
        "# Convert the predicted ratings to binary\n",
        "y_pred_binary = (y_pred >= 0.5).astype(int)\n",
        "\n",
        "# Compute the accuracy, precision, and recall\n",
        "accuracy = accuracy_score(test_df.rating >= 4, y_pred_binary)\n",
        "precision = precision_score(test_df.rating >= 4, y_pred_binary)\n",
        "recall = recall_score(test_df.rating >= 4, y_pred_binary)\n",
        "\n",
        "print('Accuracy: {:.2f}%'.format(accuracy * 100))\n",
        "print('Precision: {:.2f}%'.format(precision * 100))\n",
        "print('Recall: {:.2f}%'.format(recall * 100))\n"
      ]
    }
  ],
  "metadata": {
    "colab": {
      "gpuType": "T4",
      "provenance": []
    },
    "gpuClass": "standard",
    "kernelspec": {
      "display_name": "Python 3",
      "name": "python3"
    },
    "language_info": {
      "codemirror_mode": {
        "name": "ipython",
        "version": 3
      },
      "file_extension": ".py",
      "mimetype": "text/x-python",
      "name": "python",
      "nbconvert_exporter": "python",
      "pygments_lexer": "ipython3",
      "version": "3.11.3"
    }
  },
  "nbformat": 4,
  "nbformat_minor": 0
}
